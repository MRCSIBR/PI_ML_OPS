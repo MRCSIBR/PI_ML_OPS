{
 "cells": [
  {
   "cell_type": "markdown",
   "id": "70be00f4",
   "metadata": {},
   "source": [
    "## Convertir .json a .parquet"
   ]
  },
  {
   "cell_type": "code",
   "execution_count": 11,
   "id": "a243f8f1",
   "metadata": {},
   "outputs": [],
   "source": [
    "import pandas as pd\n",
    "import pickle\n",
    "import ast\n",
    "import json\n",
    "\n",
    "\n",
    "# Initialize an empty list to store dictionaries\n",
    "data = []\n",
    "\n",
    "# Open and parse the JSON file line by line\n",
    "with open(\"data/steam_games.json\") as f:\n",
    "    for line in f.readlines():\n",
    "        try:\n",
    "            row_dict = json.loads(line)  # Parse the JSON data in each line\n",
    "            data.append(row_dict)\n",
    "        \n",
    "        except json.JSONDecodeError:\n",
    "            print(f\"Skipping invalid JSON data: {line}\")\n",
    "\n",
    "# Create a DataFrame from the list of dictionaries\n",
    "df = pd.DataFrame(data)\n"
   ]
  },
  {
   "cell_type": "code",
   "execution_count": 12,
   "id": "f0f822c9",
   "metadata": {},
   "outputs": [
    {
     "name": "stdout",
     "output_type": "stream",
     "text": [
      "              publisher                                 genres  \\\n",
      "0                   NaN                                    NaN   \n",
      "1                   NaN                                    NaN   \n",
      "2                   NaN                                    NaN   \n",
      "3                   NaN                                    NaN   \n",
      "4                   NaN                                    NaN   \n",
      "...                 ...                                    ...   \n",
      "120440  Ghost_RUS Games  [Casual, Indie, Simulation, Strategy]   \n",
      "120441           Sacada              [Casual, Indie, Strategy]   \n",
      "120442     Laush Studio            [Indie, Racing, Simulation]   \n",
      "120443         SIXNAILS                        [Casual, Indie]   \n",
      "120444              NaN                                    NaN   \n",
      "\n",
      "                        app_name                     title  \\\n",
      "0                            NaN                       NaN   \n",
      "1                            NaN                       NaN   \n",
      "2                            NaN                       NaN   \n",
      "3                            NaN                       NaN   \n",
      "4                            NaN                       NaN   \n",
      "...                          ...                       ...   \n",
      "120440            Colony On Mars            Colony On Mars   \n",
      "120441  LOGistICAL: South Africa  LOGistICAL: South Africa   \n",
      "120442             Russian Roads             Russian Roads   \n",
      "120443       EXIT 2 - Directions       EXIT 2 - Directions   \n",
      "120444               Maze Run VR                       NaN   \n",
      "\n",
      "                                                      url release_date  \\\n",
      "0                                                     NaN          NaN   \n",
      "1                                                     NaN          NaN   \n",
      "2                                                     NaN          NaN   \n",
      "3                                                     NaN          NaN   \n",
      "4                                                     NaN          NaN   \n",
      "...                                                   ...          ...   \n",
      "120440  http://store.steampowered.com/app/773640/Colon...   2018-01-04   \n",
      "120441  http://store.steampowered.com/app/733530/LOGis...   2018-01-04   \n",
      "120442  http://store.steampowered.com/app/610660/Russi...   2018-01-04   \n",
      "120443  http://store.steampowered.com/app/658870/EXIT_...   2017-09-02   \n",
      "120444  http://store.steampowered.com/app/681550/Maze_...          NaN   \n",
      "\n",
      "                                                     tags  \\\n",
      "0                                                     NaN   \n",
      "1                                                     NaN   \n",
      "2                                                     NaN   \n",
      "3                                                     NaN   \n",
      "4                                                     NaN   \n",
      "...                                                   ...   \n",
      "120440              [Strategy, Indie, Casual, Simulation]   \n",
      "120441                          [Strategy, Indie, Casual]   \n",
      "120442                        [Indie, Simulation, Racing]   \n",
      "120443  [Indie, Casual, Puzzle, Singleplayer, Atmosphe...   \n",
      "120444  [Early Access, Adventure, Indie, Action, Simul...   \n",
      "\n",
      "                                              reviews_url  \\\n",
      "0                                                     NaN   \n",
      "1                                                     NaN   \n",
      "2                                                     NaN   \n",
      "3                                                     NaN   \n",
      "4                                                     NaN   \n",
      "...                                                   ...   \n",
      "120440  http://steamcommunity.com/app/773640/reviews/?...   \n",
      "120441  http://steamcommunity.com/app/733530/reviews/?...   \n",
      "120442  http://steamcommunity.com/app/610660/reviews/?...   \n",
      "120443  http://steamcommunity.com/app/658870/reviews/?...   \n",
      "120444  http://steamcommunity.com/app/681550/reviews/?...   \n",
      "\n",
      "                                                    specs price early_access  \\\n",
      "0                                                     NaN   NaN          NaN   \n",
      "1                                                     NaN   NaN          NaN   \n",
      "2                                                     NaN   NaN          NaN   \n",
      "3                                                     NaN   NaN          NaN   \n",
      "4                                                     NaN   NaN          NaN   \n",
      "...                                                   ...   ...          ...   \n",
      "120440                [Single-player, Steam Achievements]  1.99        False   \n",
      "120441  [Single-player, Steam Achievements, Steam Clou...  4.99        False   \n",
      "120442  [Single-player, Steam Achievements, Steam Trad...  1.99        False   \n",
      "120443   [Single-player, Steam Achievements, Steam Cloud]  4.99        False   \n",
      "120444  [Single-player, Stats, Steam Leaderboards, HTC...  4.99         True   \n",
      "\n",
      "            id                 developer  \n",
      "0          NaN                       NaN  \n",
      "1          NaN                       NaN  \n",
      "2          NaN                       NaN  \n",
      "3          NaN                       NaN  \n",
      "4          NaN                       NaN  \n",
      "...        ...                       ...  \n",
      "120440  773640        Nikita \"Ghost_RUS\"  \n",
      "120441  733530                    Sacada  \n",
      "120442  610660  Laush Dmitriy Sergeevich  \n",
      "120443  658870             xropi,stev3ns  \n",
      "120444  681550                       NaN  \n",
      "\n",
      "[120445 rows x 13 columns]\n"
     ]
    }
   ],
   "source": [
    "print(df)"
   ]
  },
  {
   "cell_type": "code",
   "execution_count": 13,
   "id": "22ce6aa3",
   "metadata": {},
   "outputs": [
    {
     "data": {
      "text/plain": [
       "Index(['publisher', 'genres', 'app_name', 'title', 'url', 'release_date',\n",
       "       'tags', 'reviews_url', 'specs', 'price', 'early_access', 'id',\n",
       "       'developer'],\n",
       "      dtype='object')"
      ]
     },
     "execution_count": 13,
     "metadata": {},
     "output_type": "execute_result"
    }
   ],
   "source": [
    "df.columns"
   ]
  },
  {
   "cell_type": "code",
   "execution_count": 14,
   "id": "bc2444e3",
   "metadata": {},
   "outputs": [
    {
     "name": "stdout",
     "output_type": "stream",
     "text": [
      "<class 'pandas.core.frame.DataFrame'>\n",
      "RangeIndex: 120445 entries, 0 to 120444\n",
      "Data columns (total 13 columns):\n",
      " #   Column        Non-Null Count  Dtype \n",
      "---  ------        --------------  ----- \n",
      " 0   publisher     24083 non-null  object\n",
      " 1   genres        28852 non-null  object\n",
      " 2   app_name      32133 non-null  object\n",
      " 3   title         30085 non-null  object\n",
      " 4   url           32135 non-null  object\n",
      " 5   release_date  30068 non-null  object\n",
      " 6   tags          31972 non-null  object\n",
      " 7   reviews_url   32133 non-null  object\n",
      " 8   specs         31465 non-null  object\n",
      " 9   price         30758 non-null  object\n",
      " 10  early_access  32135 non-null  object\n",
      " 11  id            32133 non-null  object\n",
      " 12  developer     28836 non-null  object\n",
      "dtypes: object(13)\n",
      "memory usage: 11.9+ MB\n"
     ]
    }
   ],
   "source": [
    "df.info()"
   ]
  },
  {
   "cell_type": "markdown",
   "id": "23583cf4",
   "metadata": {},
   "source": [
    "## Grabar dataframe a .parquet"
   ]
  },
  {
   "cell_type": "code",
   "execution_count": 17,
   "id": "bbfe47c7",
   "metadata": {},
   "outputs": [],
   "source": [
    "# Drop the 'price' column from the DataFrame\n",
    "df = df.drop('price', axis=1)\n",
    "\n",
    "# Specify the output Parquet file path\n",
    "parquet_file_path = 'steam_games.parquet'\n",
    "\n",
    "# Save the DataFrame to a Parquet file\n",
    "df.to_parquet(parquet_file_path, index=False)"
   ]
  },
  {
   "cell_type": "code",
   "execution_count": 19,
   "id": "13e9dfce",
   "metadata": {},
   "outputs": [],
   "source": [
    "dfp = pd.read_parquet('steam_games.parquet')"
   ]
  },
  {
   "cell_type": "code",
   "execution_count": 24,
   "id": "1859e31a",
   "metadata": {},
   "outputs": [
    {
     "data": {
      "text/html": [
       "<div>\n",
       "<style scoped>\n",
       "    .dataframe tbody tr th:only-of-type {\n",
       "        vertical-align: middle;\n",
       "    }\n",
       "\n",
       "    .dataframe tbody tr th {\n",
       "        vertical-align: top;\n",
       "    }\n",
       "\n",
       "    .dataframe thead th {\n",
       "        text-align: right;\n",
       "    }\n",
       "</style>\n",
       "<table border=\"1\" class=\"dataframe\">\n",
       "  <thead>\n",
       "    <tr style=\"text-align: right;\">\n",
       "      <th></th>\n",
       "      <th>publisher</th>\n",
       "      <th>genres</th>\n",
       "      <th>app_name</th>\n",
       "      <th>title</th>\n",
       "      <th>url</th>\n",
       "      <th>release_date</th>\n",
       "      <th>tags</th>\n",
       "      <th>reviews_url</th>\n",
       "      <th>specs</th>\n",
       "      <th>early_access</th>\n",
       "      <th>id</th>\n",
       "      <th>developer</th>\n",
       "    </tr>\n",
       "  </thead>\n",
       "  <tbody>\n",
       "    <tr>\n",
       "      <th>64545</th>\n",
       "      <td>None</td>\n",
       "      <td>None</td>\n",
       "      <td>None</td>\n",
       "      <td>None</td>\n",
       "      <td>None</td>\n",
       "      <td>None</td>\n",
       "      <td>None</td>\n",
       "      <td>None</td>\n",
       "      <td>None</td>\n",
       "      <td>None</td>\n",
       "      <td>None</td>\n",
       "      <td>None</td>\n",
       "    </tr>\n",
       "    <tr>\n",
       "      <th>41025</th>\n",
       "      <td>None</td>\n",
       "      <td>None</td>\n",
       "      <td>None</td>\n",
       "      <td>None</td>\n",
       "      <td>None</td>\n",
       "      <td>None</td>\n",
       "      <td>None</td>\n",
       "      <td>None</td>\n",
       "      <td>None</td>\n",
       "      <td>None</td>\n",
       "      <td>None</td>\n",
       "      <td>None</td>\n",
       "    </tr>\n",
       "    <tr>\n",
       "      <th>22090</th>\n",
       "      <td>None</td>\n",
       "      <td>None</td>\n",
       "      <td>None</td>\n",
       "      <td>None</td>\n",
       "      <td>None</td>\n",
       "      <td>None</td>\n",
       "      <td>None</td>\n",
       "      <td>None</td>\n",
       "      <td>None</td>\n",
       "      <td>None</td>\n",
       "      <td>None</td>\n",
       "      <td>None</td>\n",
       "    </tr>\n",
       "    <tr>\n",
       "      <th>99790</th>\n",
       "      <td>Bethesda Softworks</td>\n",
       "      <td>[Action]</td>\n",
       "      <td>Dishonored®: Death of the Outsider™</td>\n",
       "      <td>Dishonored®: Death of the Outsider™</td>\n",
       "      <td>http://store.steampowered.com/app/614570/Disho...</td>\n",
       "      <td>2017-09-14</td>\n",
       "      <td>[Stealth, Action, Violent, First-Person, Femal...</td>\n",
       "      <td>http://steamcommunity.com/app/614570/reviews/?...</td>\n",
       "      <td>[Single-player, Steam Achievements, Full contr...</td>\n",
       "      <td>False</td>\n",
       "      <td>614570</td>\n",
       "      <td>Arkane Studios</td>\n",
       "    </tr>\n",
       "    <tr>\n",
       "      <th>75856</th>\n",
       "      <td>None</td>\n",
       "      <td>None</td>\n",
       "      <td>None</td>\n",
       "      <td>None</td>\n",
       "      <td>None</td>\n",
       "      <td>None</td>\n",
       "      <td>None</td>\n",
       "      <td>None</td>\n",
       "      <td>None</td>\n",
       "      <td>None</td>\n",
       "      <td>None</td>\n",
       "      <td>None</td>\n",
       "    </tr>\n",
       "  </tbody>\n",
       "</table>\n",
       "</div>"
      ],
      "text/plain": [
       "                publisher    genres                             app_name  \\\n",
       "64545                None      None                                 None   \n",
       "41025                None      None                                 None   \n",
       "22090                None      None                                 None   \n",
       "99790  Bethesda Softworks  [Action]  Dishonored®: Death of the Outsider™   \n",
       "75856                None      None                                 None   \n",
       "\n",
       "                                     title  \\\n",
       "64545                                 None   \n",
       "41025                                 None   \n",
       "22090                                 None   \n",
       "99790  Dishonored®: Death of the Outsider™   \n",
       "75856                                 None   \n",
       "\n",
       "                                                     url release_date  \\\n",
       "64545                                               None         None   \n",
       "41025                                               None         None   \n",
       "22090                                               None         None   \n",
       "99790  http://store.steampowered.com/app/614570/Disho...   2017-09-14   \n",
       "75856                                               None         None   \n",
       "\n",
       "                                                    tags  \\\n",
       "64545                                               None   \n",
       "41025                                               None   \n",
       "22090                                               None   \n",
       "99790  [Stealth, Action, Violent, First-Person, Femal...   \n",
       "75856                                               None   \n",
       "\n",
       "                                             reviews_url  \\\n",
       "64545                                               None   \n",
       "41025                                               None   \n",
       "22090                                               None   \n",
       "99790  http://steamcommunity.com/app/614570/reviews/?...   \n",
       "75856                                               None   \n",
       "\n",
       "                                                   specs early_access      id  \\\n",
       "64545                                               None         None    None   \n",
       "41025                                               None         None    None   \n",
       "22090                                               None         None    None   \n",
       "99790  [Single-player, Steam Achievements, Full contr...        False  614570   \n",
       "75856                                               None         None    None   \n",
       "\n",
       "            developer  \n",
       "64545            None  \n",
       "41025            None  \n",
       "22090            None  \n",
       "99790  Arkane Studios  \n",
       "75856            None  "
      ]
     },
     "execution_count": 24,
     "metadata": {},
     "output_type": "execute_result"
    }
   ],
   "source": [
    "dfp.sample(5)"
   ]
  },
  {
   "cell_type": "code",
   "execution_count": 25,
   "id": "46d323f2",
   "metadata": {},
   "outputs": [
    {
     "name": "stdout",
     "output_type": "stream",
     "text": [
      "3.4M -rw-rw-r-- 1 krelar 3.4M Sep  5 03:03 steam_games.parquet\r\n"
     ]
    }
   ],
   "source": [
    "# Wow el archivo solo pesa 3.5mb, notar que dropeamos la columna price\n",
    "!ls -GFlash steam_games.parquet"
   ]
  },
  {
   "cell_type": "code",
   "execution_count": 30,
   "id": "2f728ec2",
   "metadata": {},
   "outputs": [],
   "source": [
    "# En caso de necesitar columnas especificas\n",
    "\n",
    "df_parquet = pd.read_parquet('steam_games.parquet', columns = ['genres', 'release_date'])"
   ]
  },
  {
   "cell_type": "code",
   "execution_count": 28,
   "id": "6f202b35",
   "metadata": {},
   "outputs": [
    {
     "data": {
      "text/html": [
       "<div>\n",
       "<style scoped>\n",
       "    .dataframe tbody tr th:only-of-type {\n",
       "        vertical-align: middle;\n",
       "    }\n",
       "\n",
       "    .dataframe tbody tr th {\n",
       "        vertical-align: top;\n",
       "    }\n",
       "\n",
       "    .dataframe thead th {\n",
       "        text-align: right;\n",
       "    }\n",
       "</style>\n",
       "<table border=\"1\" class=\"dataframe\">\n",
       "  <thead>\n",
       "    <tr style=\"text-align: right;\">\n",
       "      <th></th>\n",
       "      <th>genres</th>\n",
       "      <th>release_date</th>\n",
       "    </tr>\n",
       "  </thead>\n",
       "  <tbody>\n",
       "    <tr>\n",
       "      <th>120440</th>\n",
       "      <td>[Casual, Indie, Simulation, Strategy]</td>\n",
       "      <td>2018-01-04</td>\n",
       "    </tr>\n",
       "    <tr>\n",
       "      <th>120441</th>\n",
       "      <td>[Casual, Indie, Strategy]</td>\n",
       "      <td>2018-01-04</td>\n",
       "    </tr>\n",
       "    <tr>\n",
       "      <th>120442</th>\n",
       "      <td>[Indie, Racing, Simulation]</td>\n",
       "      <td>2018-01-04</td>\n",
       "    </tr>\n",
       "    <tr>\n",
       "      <th>120443</th>\n",
       "      <td>[Casual, Indie]</td>\n",
       "      <td>2017-09-02</td>\n",
       "    </tr>\n",
       "    <tr>\n",
       "      <th>120444</th>\n",
       "      <td>None</td>\n",
       "      <td>None</td>\n",
       "    </tr>\n",
       "  </tbody>\n",
       "</table>\n",
       "</div>"
      ],
      "text/plain": [
       "                                       genres release_date\n",
       "120440  [Casual, Indie, Simulation, Strategy]   2018-01-04\n",
       "120441              [Casual, Indie, Strategy]   2018-01-04\n",
       "120442            [Indie, Racing, Simulation]   2018-01-04\n",
       "120443                        [Casual, Indie]   2017-09-02\n",
       "120444                                   None         None"
      ]
     },
     "execution_count": 28,
     "metadata": {},
     "output_type": "execute_result"
    }
   ],
   "source": [
    "df_parquet.tail()"
   ]
  },
  {
   "cell_type": "code",
   "execution_count": 34,
   "id": "962297ad",
   "metadata": {},
   "outputs": [
    {
     "name": "stdout",
     "output_type": "stream",
     "text": [
      "<class 'pandas.core.frame.DataFrame'>\n",
      "RangeIndex: 120445 entries, 0 to 120444\n",
      "Data columns (total 2 columns):\n",
      " #   Column        Non-Null Count  Dtype \n",
      "---  ------        --------------  ----- \n",
      " 0   genres        28852 non-null  object\n",
      " 1   release_date  30068 non-null  object\n",
      "dtypes: object(2)\n",
      "memory usage: 1.8+ MB\n"
     ]
    }
   ],
   "source": [
    "df_parquet.info()"
   ]
  },
  {
   "cell_type": "code",
   "execution_count": null,
   "id": "782d719a",
   "metadata": {},
   "outputs": [],
   "source": []
  }
 ],
 "metadata": {
  "kernelspec": {
   "display_name": "Python 3",
   "language": "python",
   "name": "python3"
  },
  "language_info": {
   "codemirror_mode": {
    "name": "ipython",
    "version": 3
   },
   "file_extension": ".py",
   "mimetype": "text/x-python",
   "name": "python",
   "nbconvert_exporter": "python",
   "pygments_lexer": "ipython3",
   "version": "3.11.4"
  }
 },
 "nbformat": 4,
 "nbformat_minor": 5
}
