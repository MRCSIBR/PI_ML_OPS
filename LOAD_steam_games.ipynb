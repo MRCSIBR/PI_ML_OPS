{
 "cells": [
  {
   "cell_type": "markdown",
   "id": "70be00f4",
   "metadata": {},
   "source": [
    "## Convertir .json a .parquet"
   ]
  },
  {
   "cell_type": "code",
   "execution_count": 1,
   "id": "a243f8f1",
   "metadata": {},
   "outputs": [],
   "source": [
    "import pandas as pd\n",
    "import pickle\n",
    "import ast\n",
    "import json\n",
    "\n",
    "\n",
    "\n",
    "# Initialize an empty list to store dictionaries\n",
    "data = []\n",
    "\n",
    "\n",
    "# Open and parse the JSON file line by line\n",
    "with open(\"data/steam_games.json\") as f:\n",
    "    for line in f.readlines():\n",
    "        try:\n",
    "            row_dict = json.loads(line)  # Parse the JSON data in each line\n",
    "            data.append(row_dict)\n",
    "        \n",
    "        except json.JSONDecodeError:\n",
    "            print(f\"Skipping invalid JSON data: {line}\")"
   ]
  },
  {
   "cell_type": "code",
   "execution_count": 2,
   "id": "f0f822c9",
   "metadata": {},
   "outputs": [],
   "source": [
    "# Create a DataFrame from the list of dictionaries\n",
    "df = pd.DataFrame(data)"
   ]
  },
  {
   "cell_type": "code",
   "execution_count": 3,
   "id": "22ce6aa3",
   "metadata": {},
   "outputs": [
    {
     "data": {
      "text/plain": [
       "Index(['publisher', 'genres', 'app_name', 'title', 'url', 'release_date',\n",
       "       'tags', 'reviews_url', 'specs', 'price', 'early_access', 'id',\n",
       "       'developer'],\n",
       "      dtype='object')"
      ]
     },
     "execution_count": 3,
     "metadata": {},
     "output_type": "execute_result"
    }
   ],
   "source": [
    "df.columns"
   ]
  },
  {
   "cell_type": "code",
   "execution_count": 4,
   "id": "bc2444e3",
   "metadata": {},
   "outputs": [
    {
     "name": "stdout",
     "output_type": "stream",
     "text": [
      "<class 'pandas.core.frame.DataFrame'>\n",
      "RangeIndex: 120445 entries, 0 to 120444\n",
      "Data columns (total 13 columns):\n",
      " #   Column        Non-Null Count  Dtype \n",
      "---  ------        --------------  ----- \n",
      " 0   publisher     24083 non-null  object\n",
      " 1   genres        28852 non-null  object\n",
      " 2   app_name      32133 non-null  object\n",
      " 3   title         30085 non-null  object\n",
      " 4   url           32135 non-null  object\n",
      " 5   release_date  30068 non-null  object\n",
      " 6   tags          31972 non-null  object\n",
      " 7   reviews_url   32133 non-null  object\n",
      " 8   specs         31465 non-null  object\n",
      " 9   price         30758 non-null  object\n",
      " 10  early_access  32135 non-null  object\n",
      " 11  id            32133 non-null  object\n",
      " 12  developer     28836 non-null  object\n",
      "dtypes: object(13)\n",
      "memory usage: 11.9+ MB\n"
     ]
    }
   ],
   "source": [
    "df.info()"
   ]
  },
  {
   "cell_type": "code",
   "execution_count": 5,
   "id": "a87eaef5",
   "metadata": {},
   "outputs": [
    {
     "data": {
      "text/html": [
       "<div>\n",
       "<style scoped>\n",
       "    .dataframe tbody tr th:only-of-type {\n",
       "        vertical-align: middle;\n",
       "    }\n",
       "\n",
       "    .dataframe tbody tr th {\n",
       "        vertical-align: top;\n",
       "    }\n",
       "\n",
       "    .dataframe thead th {\n",
       "        text-align: right;\n",
       "    }\n",
       "</style>\n",
       "<table border=\"1\" class=\"dataframe\">\n",
       "  <thead>\n",
       "    <tr style=\"text-align: right;\">\n",
       "      <th></th>\n",
       "      <th>publisher</th>\n",
       "      <th>genres</th>\n",
       "      <th>app_name</th>\n",
       "      <th>title</th>\n",
       "      <th>url</th>\n",
       "      <th>release_date</th>\n",
       "      <th>tags</th>\n",
       "      <th>reviews_url</th>\n",
       "      <th>specs</th>\n",
       "      <th>price</th>\n",
       "      <th>early_access</th>\n",
       "      <th>id</th>\n",
       "      <th>developer</th>\n",
       "    </tr>\n",
       "  </thead>\n",
       "  <tbody>\n",
       "    <tr>\n",
       "      <th>0</th>\n",
       "      <td>NaN</td>\n",
       "      <td>NaN</td>\n",
       "      <td>NaN</td>\n",
       "      <td>NaN</td>\n",
       "      <td>NaN</td>\n",
       "      <td>NaN</td>\n",
       "      <td>NaN</td>\n",
       "      <td>NaN</td>\n",
       "      <td>NaN</td>\n",
       "      <td>NaN</td>\n",
       "      <td>NaN</td>\n",
       "      <td>NaN</td>\n",
       "      <td>NaN</td>\n",
       "    </tr>\n",
       "    <tr>\n",
       "      <th>1</th>\n",
       "      <td>NaN</td>\n",
       "      <td>NaN</td>\n",
       "      <td>NaN</td>\n",
       "      <td>NaN</td>\n",
       "      <td>NaN</td>\n",
       "      <td>NaN</td>\n",
       "      <td>NaN</td>\n",
       "      <td>NaN</td>\n",
       "      <td>NaN</td>\n",
       "      <td>NaN</td>\n",
       "      <td>NaN</td>\n",
       "      <td>NaN</td>\n",
       "      <td>NaN</td>\n",
       "    </tr>\n",
       "    <tr>\n",
       "      <th>2</th>\n",
       "      <td>NaN</td>\n",
       "      <td>NaN</td>\n",
       "      <td>NaN</td>\n",
       "      <td>NaN</td>\n",
       "      <td>NaN</td>\n",
       "      <td>NaN</td>\n",
       "      <td>NaN</td>\n",
       "      <td>NaN</td>\n",
       "      <td>NaN</td>\n",
       "      <td>NaN</td>\n",
       "      <td>NaN</td>\n",
       "      <td>NaN</td>\n",
       "      <td>NaN</td>\n",
       "    </tr>\n",
       "    <tr>\n",
       "      <th>3</th>\n",
       "      <td>NaN</td>\n",
       "      <td>NaN</td>\n",
       "      <td>NaN</td>\n",
       "      <td>NaN</td>\n",
       "      <td>NaN</td>\n",
       "      <td>NaN</td>\n",
       "      <td>NaN</td>\n",
       "      <td>NaN</td>\n",
       "      <td>NaN</td>\n",
       "      <td>NaN</td>\n",
       "      <td>NaN</td>\n",
       "      <td>NaN</td>\n",
       "      <td>NaN</td>\n",
       "    </tr>\n",
       "    <tr>\n",
       "      <th>4</th>\n",
       "      <td>NaN</td>\n",
       "      <td>NaN</td>\n",
       "      <td>NaN</td>\n",
       "      <td>NaN</td>\n",
       "      <td>NaN</td>\n",
       "      <td>NaN</td>\n",
       "      <td>NaN</td>\n",
       "      <td>NaN</td>\n",
       "      <td>NaN</td>\n",
       "      <td>NaN</td>\n",
       "      <td>NaN</td>\n",
       "      <td>NaN</td>\n",
       "      <td>NaN</td>\n",
       "    </tr>\n",
       "  </tbody>\n",
       "</table>\n",
       "</div>"
      ],
      "text/plain": [
       "  publisher genres app_name title  url release_date tags reviews_url specs  \\\n",
       "0       NaN    NaN      NaN   NaN  NaN          NaN  NaN         NaN   NaN   \n",
       "1       NaN    NaN      NaN   NaN  NaN          NaN  NaN         NaN   NaN   \n",
       "2       NaN    NaN      NaN   NaN  NaN          NaN  NaN         NaN   NaN   \n",
       "3       NaN    NaN      NaN   NaN  NaN          NaN  NaN         NaN   NaN   \n",
       "4       NaN    NaN      NaN   NaN  NaN          NaN  NaN         NaN   NaN   \n",
       "\n",
       "  price early_access   id developer  \n",
       "0   NaN          NaN  NaN       NaN  \n",
       "1   NaN          NaN  NaN       NaN  \n",
       "2   NaN          NaN  NaN       NaN  \n",
       "3   NaN          NaN  NaN       NaN  \n",
       "4   NaN          NaN  NaN       NaN  "
      ]
     },
     "execution_count": 5,
     "metadata": {},
     "output_type": "execute_result"
    }
   ],
   "source": [
    "df.head(5)"
   ]
  },
  {
   "cell_type": "code",
   "execution_count": 6,
   "id": "71ff24f8",
   "metadata": {},
   "outputs": [],
   "source": [
    "df.dropna(inplace=True)"
   ]
  },
  {
   "cell_type": "code",
   "execution_count": 7,
   "id": "08ee95e7",
   "metadata": {},
   "outputs": [
    {
     "name": "stdout",
     "output_type": "stream",
     "text": [
      "<class 'pandas.core.frame.DataFrame'>\n",
      "Int64Index: 22530 entries, 88310 to 120443\n",
      "Data columns (total 13 columns):\n",
      " #   Column        Non-Null Count  Dtype \n",
      "---  ------        --------------  ----- \n",
      " 0   publisher     22530 non-null  object\n",
      " 1   genres        22530 non-null  object\n",
      " 2   app_name      22530 non-null  object\n",
      " 3   title         22530 non-null  object\n",
      " 4   url           22530 non-null  object\n",
      " 5   release_date  22530 non-null  object\n",
      " 6   tags          22530 non-null  object\n",
      " 7   reviews_url   22530 non-null  object\n",
      " 8   specs         22530 non-null  object\n",
      " 9   price         22530 non-null  object\n",
      " 10  early_access  22530 non-null  object\n",
      " 11  id            22530 non-null  object\n",
      " 12  developer     22530 non-null  object\n",
      "dtypes: object(13)\n",
      "memory usage: 2.4+ MB\n"
     ]
    }
   ],
   "source": [
    "df.info()"
   ]
  },
  {
   "cell_type": "markdown",
   "id": "d5a79ecc",
   "metadata": {},
   "source": [
    "### Corregir el problema antes de guardar en formato .parquet\n",
    "`\"Could not convert 'Free To Play' with type str: tried to convert to double`\n",
    "\n",
    "Ahora Free to play es 0"
   ]
  },
  {
   "cell_type": "code",
   "execution_count": 10,
   "id": "e411447d",
   "metadata": {},
   "outputs": [],
   "source": [
    "# Convertir la columna price a data type numeric y llenar los NaN con valor '0'\n",
    "df['price'] = pd.to_numeric(df['price'], errors='coerce').fillna(0)"
   ]
  },
  {
   "cell_type": "code",
   "execution_count": 11,
   "id": "549f7da5",
   "metadata": {},
   "outputs": [
    {
     "name": "stdout",
     "output_type": "stream",
     "text": [
      "<class 'pandas.core.frame.DataFrame'>\n",
      "Int64Index: 22530 entries, 88310 to 120443\n",
      "Data columns (total 13 columns):\n",
      " #   Column        Non-Null Count  Dtype  \n",
      "---  ------        --------------  -----  \n",
      " 0   publisher     22530 non-null  object \n",
      " 1   genres        22530 non-null  object \n",
      " 2   app_name      22530 non-null  object \n",
      " 3   title         22530 non-null  object \n",
      " 4   url           22530 non-null  object \n",
      " 5   release_date  22530 non-null  object \n",
      " 6   tags          22530 non-null  object \n",
      " 7   reviews_url   22530 non-null  object \n",
      " 8   specs         22530 non-null  object \n",
      " 9   price         22530 non-null  float64\n",
      " 10  early_access  22530 non-null  object \n",
      " 11  id            22530 non-null  object \n",
      " 12  developer     22530 non-null  object \n",
      "dtypes: float64(1), object(12)\n",
      "memory usage: 2.4+ MB\n"
     ]
    }
   ],
   "source": [
    "df.info()"
   ]
  },
  {
   "cell_type": "markdown",
   "id": "23583cf4",
   "metadata": {},
   "source": [
    "## Grabar dataframe a .parquet"
   ]
  },
  {
   "cell_type": "code",
   "execution_count": 12,
   "id": "bbfe47c7",
   "metadata": {},
   "outputs": [],
   "source": [
    "# Drop the 'price' column from the DataFrame\n",
    "#df = df.drop('price', axis=1)\n",
    "\n",
    "# Specify the output Parquet file path\n",
    "parquet_file_path = 'steam_games.parquet'\n",
    "\n",
    "# Save the DataFrame to a Parquet file\n",
    "df.to_parquet(parquet_file_path, index=False)"
   ]
  },
  {
   "cell_type": "code",
   "execution_count": 13,
   "id": "13e9dfce",
   "metadata": {},
   "outputs": [],
   "source": [
    "dfp = pd.read_parquet('steam_games.parquet')"
   ]
  },
  {
   "cell_type": "code",
   "execution_count": 14,
   "id": "1859e31a",
   "metadata": {},
   "outputs": [
    {
     "data": {
      "text/html": [
       "<div>\n",
       "<style scoped>\n",
       "    .dataframe tbody tr th:only-of-type {\n",
       "        vertical-align: middle;\n",
       "    }\n",
       "\n",
       "    .dataframe tbody tr th {\n",
       "        vertical-align: top;\n",
       "    }\n",
       "\n",
       "    .dataframe thead th {\n",
       "        text-align: right;\n",
       "    }\n",
       "</style>\n",
       "<table border=\"1\" class=\"dataframe\">\n",
       "  <thead>\n",
       "    <tr style=\"text-align: right;\">\n",
       "      <th></th>\n",
       "      <th>publisher</th>\n",
       "      <th>genres</th>\n",
       "      <th>app_name</th>\n",
       "      <th>title</th>\n",
       "      <th>url</th>\n",
       "      <th>release_date</th>\n",
       "      <th>tags</th>\n",
       "      <th>reviews_url</th>\n",
       "      <th>specs</th>\n",
       "      <th>price</th>\n",
       "      <th>early_access</th>\n",
       "      <th>id</th>\n",
       "      <th>developer</th>\n",
       "    </tr>\n",
       "  </thead>\n",
       "  <tbody>\n",
       "    <tr>\n",
       "      <th>17643</th>\n",
       "      <td>Lost Spell</td>\n",
       "      <td>[Adventure, Indie]</td>\n",
       "      <td>Hidden: On the trail of the Ancients</td>\n",
       "      <td>Hidden: On the trail of the Ancients</td>\n",
       "      <td>http://store.steampowered.com/app/352580/Hidde...</td>\n",
       "      <td>2015-08-05</td>\n",
       "      <td>[Adventure, Indie, Horror, Point &amp; Click, Psyc...</td>\n",
       "      <td>http://steamcommunity.com/app/352580/reviews/?...</td>\n",
       "      <td>[Single-player, Steam Achievements, Steam Trad...</td>\n",
       "      <td>9.99</td>\n",
       "      <td>False</td>\n",
       "      <td>352580</td>\n",
       "      <td>Lost Spell</td>\n",
       "    </tr>\n",
       "    <tr>\n",
       "      <th>8016</th>\n",
       "      <td>Blender Games</td>\n",
       "      <td>[Action, Adventure, Casual, Indie]</td>\n",
       "      <td>Bitcoin Collector</td>\n",
       "      <td>Bitcoin Collector</td>\n",
       "      <td>http://store.steampowered.com/app/704190/Bitco...</td>\n",
       "      <td>2017-09-13</td>\n",
       "      <td>[Difficult, Casual, Indie, Platformer, 2D, Sin...</td>\n",
       "      <td>http://steamcommunity.com/app/704190/reviews/?...</td>\n",
       "      <td>[Single-player, Steam Achievements]</td>\n",
       "      <td>0.99</td>\n",
       "      <td>False</td>\n",
       "      <td>704190</td>\n",
       "      <td>Blender Games</td>\n",
       "    </tr>\n",
       "    <tr>\n",
       "      <th>14507</th>\n",
       "      <td>AGM PLAYISM</td>\n",
       "      <td>[Action, Indie, RPG]</td>\n",
       "      <td>Dungeons &amp; Darkness</td>\n",
       "      <td>Dungeons &amp;amp; Darkness</td>\n",
       "      <td>http://store.steampowered.com/app/479990/Dunge...</td>\n",
       "      <td>2016-09-29</td>\n",
       "      <td>[Action, RPG, Indie, Magic, Dungeon Crawler, D...</td>\n",
       "      <td>http://steamcommunity.com/app/479990/reviews/?...</td>\n",
       "      <td>[Single-player, Steam Achievements, Steam Trad...</td>\n",
       "      <td>9.99</td>\n",
       "      <td>False</td>\n",
       "      <td>479990</td>\n",
       "      <td>Yamiuchi Project</td>\n",
       "    </tr>\n",
       "    <tr>\n",
       "      <th>927</th>\n",
       "      <td>Nyu Media</td>\n",
       "      <td>[Action]</td>\n",
       "      <td>eXceed 2nd - Vampire REX</td>\n",
       "      <td>eXceed 2nd - Vampire REX</td>\n",
       "      <td>http://store.steampowered.com/app/207380/eXcee...</td>\n",
       "      <td>2012-08-02</td>\n",
       "      <td>[Bullet Hell, Shoot 'Em Up, Anime, Action, Fem...</td>\n",
       "      <td>http://steamcommunity.com/app/207380/reviews/?...</td>\n",
       "      <td>[Single-player, Steam Trading Cards]</td>\n",
       "      <td>5.99</td>\n",
       "      <td>False</td>\n",
       "      <td>207380</td>\n",
       "      <td>Tennen-sozai</td>\n",
       "    </tr>\n",
       "    <tr>\n",
       "      <th>1276</th>\n",
       "      <td>SEGA</td>\n",
       "      <td>[Action]</td>\n",
       "      <td>Aliens: Colonial Marines Sawed-off Double Barr...</td>\n",
       "      <td>Aliens: Colonial Marines Sawed-off Double Barr...</td>\n",
       "      <td>http://store.steampowered.com/app/219447/Alien...</td>\n",
       "      <td>2013-05-28</td>\n",
       "      <td>[Action]</td>\n",
       "      <td>http://steamcommunity.com/app/219447/reviews/?...</td>\n",
       "      <td>[Single-player, Multi-player, Co-op, Downloada...</td>\n",
       "      <td>29.99</td>\n",
       "      <td>False</td>\n",
       "      <td>219447</td>\n",
       "      <td>Gearbox Software</td>\n",
       "    </tr>\n",
       "  </tbody>\n",
       "</table>\n",
       "</div>"
      ],
      "text/plain": [
       "           publisher                              genres  \\\n",
       "17643     Lost Spell                  [Adventure, Indie]   \n",
       "8016   Blender Games  [Action, Adventure, Casual, Indie]   \n",
       "14507    AGM PLAYISM                [Action, Indie, RPG]   \n",
       "927        Nyu Media                            [Action]   \n",
       "1276            SEGA                            [Action]   \n",
       "\n",
       "                                                app_name  \\\n",
       "17643               Hidden: On the trail of the Ancients   \n",
       "8016                                   Bitcoin Collector   \n",
       "14507                                Dungeons & Darkness   \n",
       "927                             eXceed 2nd - Vampire REX   \n",
       "1276   Aliens: Colonial Marines Sawed-off Double Barr...   \n",
       "\n",
       "                                                   title  \\\n",
       "17643               Hidden: On the trail of the Ancients   \n",
       "8016                                   Bitcoin Collector   \n",
       "14507                            Dungeons &amp; Darkness   \n",
       "927                             eXceed 2nd - Vampire REX   \n",
       "1276   Aliens: Colonial Marines Sawed-off Double Barr...   \n",
       "\n",
       "                                                     url release_date  \\\n",
       "17643  http://store.steampowered.com/app/352580/Hidde...   2015-08-05   \n",
       "8016   http://store.steampowered.com/app/704190/Bitco...   2017-09-13   \n",
       "14507  http://store.steampowered.com/app/479990/Dunge...   2016-09-29   \n",
       "927    http://store.steampowered.com/app/207380/eXcee...   2012-08-02   \n",
       "1276   http://store.steampowered.com/app/219447/Alien...   2013-05-28   \n",
       "\n",
       "                                                    tags  \\\n",
       "17643  [Adventure, Indie, Horror, Point & Click, Psyc...   \n",
       "8016   [Difficult, Casual, Indie, Platformer, 2D, Sin...   \n",
       "14507  [Action, RPG, Indie, Magic, Dungeon Crawler, D...   \n",
       "927    [Bullet Hell, Shoot 'Em Up, Anime, Action, Fem...   \n",
       "1276                                            [Action]   \n",
       "\n",
       "                                             reviews_url  \\\n",
       "17643  http://steamcommunity.com/app/352580/reviews/?...   \n",
       "8016   http://steamcommunity.com/app/704190/reviews/?...   \n",
       "14507  http://steamcommunity.com/app/479990/reviews/?...   \n",
       "927    http://steamcommunity.com/app/207380/reviews/?...   \n",
       "1276   http://steamcommunity.com/app/219447/reviews/?...   \n",
       "\n",
       "                                                   specs  price  early_access  \\\n",
       "17643  [Single-player, Steam Achievements, Steam Trad...   9.99         False   \n",
       "8016                 [Single-player, Steam Achievements]   0.99         False   \n",
       "14507  [Single-player, Steam Achievements, Steam Trad...   9.99         False   \n",
       "927                 [Single-player, Steam Trading Cards]   5.99         False   \n",
       "1276   [Single-player, Multi-player, Co-op, Downloada...  29.99         False   \n",
       "\n",
       "           id         developer  \n",
       "17643  352580        Lost Spell  \n",
       "8016   704190     Blender Games  \n",
       "14507  479990  Yamiuchi Project  \n",
       "927    207380      Tennen-sozai  \n",
       "1276   219447  Gearbox Software  "
      ]
     },
     "execution_count": 14,
     "metadata": {},
     "output_type": "execute_result"
    }
   ],
   "source": [
    "dfp.sample(5)"
   ]
  },
  {
   "cell_type": "code",
   "execution_count": 1,
   "id": "46d323f2",
   "metadata": {},
   "outputs": [],
   "source": [
    "# Wow el archivo ahora solo pesa 2.6mb"
   ]
  },
  {
   "cell_type": "code",
   "execution_count": 15,
   "id": "2f728ec2",
   "metadata": {},
   "outputs": [],
   "source": [
    "# En caso de necesitar columnas especificas\n",
    "\n",
    "df_parquet = pd.read_parquet('steam_games.parquet', columns = ['genres', 'release_date'])"
   ]
  },
  {
   "cell_type": "code",
   "execution_count": 16,
   "id": "6f202b35",
   "metadata": {},
   "outputs": [
    {
     "data": {
      "text/html": [
       "<div>\n",
       "<style scoped>\n",
       "    .dataframe tbody tr th:only-of-type {\n",
       "        vertical-align: middle;\n",
       "    }\n",
       "\n",
       "    .dataframe tbody tr th {\n",
       "        vertical-align: top;\n",
       "    }\n",
       "\n",
       "    .dataframe thead th {\n",
       "        text-align: right;\n",
       "    }\n",
       "</style>\n",
       "<table border=\"1\" class=\"dataframe\">\n",
       "  <thead>\n",
       "    <tr style=\"text-align: right;\">\n",
       "      <th></th>\n",
       "      <th>genres</th>\n",
       "      <th>release_date</th>\n",
       "    </tr>\n",
       "  </thead>\n",
       "  <tbody>\n",
       "    <tr>\n",
       "      <th>22525</th>\n",
       "      <td>[Action, Adventure, Casual, Indie]</td>\n",
       "      <td>2018-01-04</td>\n",
       "    </tr>\n",
       "    <tr>\n",
       "      <th>22526</th>\n",
       "      <td>[Casual, Indie, Simulation, Strategy]</td>\n",
       "      <td>2018-01-04</td>\n",
       "    </tr>\n",
       "    <tr>\n",
       "      <th>22527</th>\n",
       "      <td>[Casual, Indie, Strategy]</td>\n",
       "      <td>2018-01-04</td>\n",
       "    </tr>\n",
       "    <tr>\n",
       "      <th>22528</th>\n",
       "      <td>[Indie, Racing, Simulation]</td>\n",
       "      <td>2018-01-04</td>\n",
       "    </tr>\n",
       "    <tr>\n",
       "      <th>22529</th>\n",
       "      <td>[Casual, Indie]</td>\n",
       "      <td>2017-09-02</td>\n",
       "    </tr>\n",
       "  </tbody>\n",
       "</table>\n",
       "</div>"
      ],
      "text/plain": [
       "                                      genres release_date\n",
       "22525     [Action, Adventure, Casual, Indie]   2018-01-04\n",
       "22526  [Casual, Indie, Simulation, Strategy]   2018-01-04\n",
       "22527              [Casual, Indie, Strategy]   2018-01-04\n",
       "22528            [Indie, Racing, Simulation]   2018-01-04\n",
       "22529                        [Casual, Indie]   2017-09-02"
      ]
     },
     "execution_count": 16,
     "metadata": {},
     "output_type": "execute_result"
    }
   ],
   "source": [
    "df_parquet.tail()"
   ]
  },
  {
   "cell_type": "code",
   "execution_count": 17,
   "id": "962297ad",
   "metadata": {},
   "outputs": [
    {
     "name": "stdout",
     "output_type": "stream",
     "text": [
      "<class 'pandas.core.frame.DataFrame'>\n",
      "RangeIndex: 22530 entries, 0 to 22529\n",
      "Data columns (total 2 columns):\n",
      " #   Column        Non-Null Count  Dtype \n",
      "---  ------        --------------  ----- \n",
      " 0   genres        22530 non-null  object\n",
      " 1   release_date  22530 non-null  object\n",
      "dtypes: object(2)\n",
      "memory usage: 352.2+ KB\n"
     ]
    }
   ],
   "source": [
    "df_parquet.info()"
   ]
  },
  {
   "cell_type": "code",
   "execution_count": null,
   "id": "782d719a",
   "metadata": {},
   "outputs": [],
   "source": []
  }
 ],
 "metadata": {
  "kernelspec": {
   "display_name": "Python 3.7.3 64-bit ('anaconda3': virtualenv)",
   "language": "python",
   "name": "python37364bitanaconda3virtualenv8a08ce30f8a34340bd51b2a42e0c5d3d"
  },
  "language_info": {
   "codemirror_mode": {
    "name": "ipython",
    "version": 3
   },
   "file_extension": ".py",
   "mimetype": "text/x-python",
   "name": "python",
   "nbconvert_exporter": "python",
   "pygments_lexer": "ipython3",
   "version": "3.11.4"
  }
 },
 "nbformat": 4,
 "nbformat_minor": 5
}
